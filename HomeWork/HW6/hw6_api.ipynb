{
 "cells": [
  {
   "cell_type": "code",
   "execution_count": 7,
   "metadata": {},
   "outputs": [
    {
     "ename": "HTTPError",
     "evalue": "HTTP Error 400: Bad Request",
     "output_type": "error",
     "traceback": [
      "\u001b[1;31m---------------------------------------------------------------------------\u001b[0m",
      "\u001b[1;31mHTTPError\u001b[0m                                 Traceback (most recent call last)",
      "\u001b[1;32m<ipython-input-7-e6d02a158211>\u001b[0m in \u001b[0;36m<module>\u001b[1;34m()\u001b[0m\n\u001b[0;32m     12\u001b[0m     \u001b[0mrequest\u001b[0m \u001b[1;33m=\u001b[0m \u001b[1;34m'https://api.vk.com/method/wall.get?owner_    id=%d&offset=%d&count=%d&v=5.92&access_token=%s'\u001b[0m \u001b[1;33m%\u001b[0m \u001b[1;33m(\u001b[0m\u001b[0mowner_id\u001b[0m\u001b[1;33m,\u001b[0m \u001b[0mi\u001b[0m\u001b[1;33m,\u001b[0m \u001b[0mcount\u001b[0m\u001b[1;33m,\u001b[0m \u001b[0mtoken\u001b[0m\u001b[1;33m)\u001b[0m\u001b[1;33m\u001b[0m\u001b[0m\n\u001b[0;32m     13\u001b[0m     \u001b[0mreq\u001b[0m \u001b[1;33m=\u001b[0m \u001b[0murllib\u001b[0m\u001b[1;33m.\u001b[0m\u001b[0mrequest\u001b[0m\u001b[1;33m.\u001b[0m\u001b[0mRequest\u001b[0m\u001b[1;33m(\u001b[0m\u001b[0mrequest\u001b[0m\u001b[1;33m)\u001b[0m\u001b[1;33m\u001b[0m\u001b[0m\n\u001b[1;32m---> 14\u001b[1;33m     \u001b[0mresponse\u001b[0m \u001b[1;33m=\u001b[0m \u001b[0murllib\u001b[0m\u001b[1;33m.\u001b[0m\u001b[0mrequest\u001b[0m\u001b[1;33m.\u001b[0m\u001b[0murlopen\u001b[0m\u001b[1;33m(\u001b[0m\u001b[0mreq\u001b[0m\u001b[1;33m)\u001b[0m\u001b[1;33m.\u001b[0m\u001b[0mread\u001b[0m\u001b[1;33m(\u001b[0m\u001b[1;33m)\u001b[0m\u001b[1;33m.\u001b[0m\u001b[0mdecode\u001b[0m\u001b[1;33m(\u001b[0m\u001b[1;34m'utf-8'\u001b[0m\u001b[1;33m)\u001b[0m\u001b[1;33m\u001b[0m\u001b[0m\n\u001b[0m\u001b[0;32m     15\u001b[0m     \u001b[0mdata\u001b[0m \u001b[1;33m=\u001b[0m \u001b[0mjson\u001b[0m\u001b[1;33m.\u001b[0m\u001b[0mloads\u001b[0m\u001b[1;33m(\u001b[0m\u001b[0mresponse\u001b[0m\u001b[1;33m)\u001b[0m\u001b[1;33m\u001b[0m\u001b[0m\n\u001b[0;32m     16\u001b[0m     \u001b[1;32mfor\u001b[0m \u001b[0mj\u001b[0m \u001b[1;32min\u001b[0m \u001b[0mrange\u001b[0m\u001b[1;33m(\u001b[0m\u001b[0mlen\u001b[0m\u001b[1;33m(\u001b[0m\u001b[0mdata\u001b[0m\u001b[1;33m[\u001b[0m\u001b[1;34m'response'\u001b[0m\u001b[1;33m]\u001b[0m\u001b[1;33m[\u001b[0m\u001b[1;34m'items'\u001b[0m\u001b[1;33m]\u001b[0m\u001b[1;33m)\u001b[0m\u001b[1;33m)\u001b[0m\u001b[1;33m:\u001b[0m\u001b[1;33m\u001b[0m\u001b[0m\n",
      "\u001b[1;32m~\\Anaconda3\\lib\\urllib\\request.py\u001b[0m in \u001b[0;36murlopen\u001b[1;34m(url, data, timeout, cafile, capath, cadefault, context)\u001b[0m\n\u001b[0;32m    221\u001b[0m     \u001b[1;32melse\u001b[0m\u001b[1;33m:\u001b[0m\u001b[1;33m\u001b[0m\u001b[0m\n\u001b[0;32m    222\u001b[0m         \u001b[0mopener\u001b[0m \u001b[1;33m=\u001b[0m \u001b[0m_opener\u001b[0m\u001b[1;33m\u001b[0m\u001b[0m\n\u001b[1;32m--> 223\u001b[1;33m     \u001b[1;32mreturn\u001b[0m \u001b[0mopener\u001b[0m\u001b[1;33m.\u001b[0m\u001b[0mopen\u001b[0m\u001b[1;33m(\u001b[0m\u001b[0murl\u001b[0m\u001b[1;33m,\u001b[0m \u001b[0mdata\u001b[0m\u001b[1;33m,\u001b[0m \u001b[0mtimeout\u001b[0m\u001b[1;33m)\u001b[0m\u001b[1;33m\u001b[0m\u001b[0m\n\u001b[0m\u001b[0;32m    224\u001b[0m \u001b[1;33m\u001b[0m\u001b[0m\n\u001b[0;32m    225\u001b[0m \u001b[1;32mdef\u001b[0m \u001b[0minstall_opener\u001b[0m\u001b[1;33m(\u001b[0m\u001b[0mopener\u001b[0m\u001b[1;33m)\u001b[0m\u001b[1;33m:\u001b[0m\u001b[1;33m\u001b[0m\u001b[0m\n",
      "\u001b[1;32m~\\Anaconda3\\lib\\urllib\\request.py\u001b[0m in \u001b[0;36mopen\u001b[1;34m(self, fullurl, data, timeout)\u001b[0m\n\u001b[0;32m    530\u001b[0m         \u001b[1;32mfor\u001b[0m \u001b[0mprocessor\u001b[0m \u001b[1;32min\u001b[0m \u001b[0mself\u001b[0m\u001b[1;33m.\u001b[0m\u001b[0mprocess_response\u001b[0m\u001b[1;33m.\u001b[0m\u001b[0mget\u001b[0m\u001b[1;33m(\u001b[0m\u001b[0mprotocol\u001b[0m\u001b[1;33m,\u001b[0m \u001b[1;33m[\u001b[0m\u001b[1;33m]\u001b[0m\u001b[1;33m)\u001b[0m\u001b[1;33m:\u001b[0m\u001b[1;33m\u001b[0m\u001b[0m\n\u001b[0;32m    531\u001b[0m             \u001b[0mmeth\u001b[0m \u001b[1;33m=\u001b[0m \u001b[0mgetattr\u001b[0m\u001b[1;33m(\u001b[0m\u001b[0mprocessor\u001b[0m\u001b[1;33m,\u001b[0m \u001b[0mmeth_name\u001b[0m\u001b[1;33m)\u001b[0m\u001b[1;33m\u001b[0m\u001b[0m\n\u001b[1;32m--> 532\u001b[1;33m             \u001b[0mresponse\u001b[0m \u001b[1;33m=\u001b[0m \u001b[0mmeth\u001b[0m\u001b[1;33m(\u001b[0m\u001b[0mreq\u001b[0m\u001b[1;33m,\u001b[0m \u001b[0mresponse\u001b[0m\u001b[1;33m)\u001b[0m\u001b[1;33m\u001b[0m\u001b[0m\n\u001b[0m\u001b[0;32m    533\u001b[0m \u001b[1;33m\u001b[0m\u001b[0m\n\u001b[0;32m    534\u001b[0m         \u001b[1;32mreturn\u001b[0m \u001b[0mresponse\u001b[0m\u001b[1;33m\u001b[0m\u001b[0m\n",
      "\u001b[1;32m~\\Anaconda3\\lib\\urllib\\request.py\u001b[0m in \u001b[0;36mhttp_response\u001b[1;34m(self, request, response)\u001b[0m\n\u001b[0;32m    640\u001b[0m         \u001b[1;32mif\u001b[0m \u001b[1;32mnot\u001b[0m \u001b[1;33m(\u001b[0m\u001b[1;36m200\u001b[0m \u001b[1;33m<=\u001b[0m \u001b[0mcode\u001b[0m \u001b[1;33m<\u001b[0m \u001b[1;36m300\u001b[0m\u001b[1;33m)\u001b[0m\u001b[1;33m:\u001b[0m\u001b[1;33m\u001b[0m\u001b[0m\n\u001b[0;32m    641\u001b[0m             response = self.parent.error(\n\u001b[1;32m--> 642\u001b[1;33m                 'http', request, response, code, msg, hdrs)\n\u001b[0m\u001b[0;32m    643\u001b[0m \u001b[1;33m\u001b[0m\u001b[0m\n\u001b[0;32m    644\u001b[0m         \u001b[1;32mreturn\u001b[0m \u001b[0mresponse\u001b[0m\u001b[1;33m\u001b[0m\u001b[0m\n",
      "\u001b[1;32m~\\Anaconda3\\lib\\urllib\\request.py\u001b[0m in \u001b[0;36merror\u001b[1;34m(self, proto, *args)\u001b[0m\n\u001b[0;32m    568\u001b[0m         \u001b[1;32mif\u001b[0m \u001b[0mhttp_err\u001b[0m\u001b[1;33m:\u001b[0m\u001b[1;33m\u001b[0m\u001b[0m\n\u001b[0;32m    569\u001b[0m             \u001b[0margs\u001b[0m \u001b[1;33m=\u001b[0m \u001b[1;33m(\u001b[0m\u001b[0mdict\u001b[0m\u001b[1;33m,\u001b[0m \u001b[1;34m'default'\u001b[0m\u001b[1;33m,\u001b[0m \u001b[1;34m'http_error_default'\u001b[0m\u001b[1;33m)\u001b[0m \u001b[1;33m+\u001b[0m \u001b[0morig_args\u001b[0m\u001b[1;33m\u001b[0m\u001b[0m\n\u001b[1;32m--> 570\u001b[1;33m             \u001b[1;32mreturn\u001b[0m \u001b[0mself\u001b[0m\u001b[1;33m.\u001b[0m\u001b[0m_call_chain\u001b[0m\u001b[1;33m(\u001b[0m\u001b[1;33m*\u001b[0m\u001b[0margs\u001b[0m\u001b[1;33m)\u001b[0m\u001b[1;33m\u001b[0m\u001b[0m\n\u001b[0m\u001b[0;32m    571\u001b[0m \u001b[1;33m\u001b[0m\u001b[0m\n\u001b[0;32m    572\u001b[0m \u001b[1;31m# XXX probably also want an abstract factory that knows when it makes\u001b[0m\u001b[1;33m\u001b[0m\u001b[1;33m\u001b[0m\u001b[0m\n",
      "\u001b[1;32m~\\Anaconda3\\lib\\urllib\\request.py\u001b[0m in \u001b[0;36m_call_chain\u001b[1;34m(self, chain, kind, meth_name, *args)\u001b[0m\n\u001b[0;32m    502\u001b[0m         \u001b[1;32mfor\u001b[0m \u001b[0mhandler\u001b[0m \u001b[1;32min\u001b[0m \u001b[0mhandlers\u001b[0m\u001b[1;33m:\u001b[0m\u001b[1;33m\u001b[0m\u001b[0m\n\u001b[0;32m    503\u001b[0m             \u001b[0mfunc\u001b[0m \u001b[1;33m=\u001b[0m \u001b[0mgetattr\u001b[0m\u001b[1;33m(\u001b[0m\u001b[0mhandler\u001b[0m\u001b[1;33m,\u001b[0m \u001b[0mmeth_name\u001b[0m\u001b[1;33m)\u001b[0m\u001b[1;33m\u001b[0m\u001b[0m\n\u001b[1;32m--> 504\u001b[1;33m             \u001b[0mresult\u001b[0m \u001b[1;33m=\u001b[0m \u001b[0mfunc\u001b[0m\u001b[1;33m(\u001b[0m\u001b[1;33m*\u001b[0m\u001b[0margs\u001b[0m\u001b[1;33m)\u001b[0m\u001b[1;33m\u001b[0m\u001b[0m\n\u001b[0m\u001b[0;32m    505\u001b[0m             \u001b[1;32mif\u001b[0m \u001b[0mresult\u001b[0m \u001b[1;32mis\u001b[0m \u001b[1;32mnot\u001b[0m \u001b[1;32mNone\u001b[0m\u001b[1;33m:\u001b[0m\u001b[1;33m\u001b[0m\u001b[0m\n\u001b[0;32m    506\u001b[0m                 \u001b[1;32mreturn\u001b[0m \u001b[0mresult\u001b[0m\u001b[1;33m\u001b[0m\u001b[0m\n",
      "\u001b[1;32m~\\Anaconda3\\lib\\urllib\\request.py\u001b[0m in \u001b[0;36mhttp_error_default\u001b[1;34m(self, req, fp, code, msg, hdrs)\u001b[0m\n\u001b[0;32m    648\u001b[0m \u001b[1;32mclass\u001b[0m \u001b[0mHTTPDefaultErrorHandler\u001b[0m\u001b[1;33m(\u001b[0m\u001b[0mBaseHandler\u001b[0m\u001b[1;33m)\u001b[0m\u001b[1;33m:\u001b[0m\u001b[1;33m\u001b[0m\u001b[0m\n\u001b[0;32m    649\u001b[0m     \u001b[1;32mdef\u001b[0m \u001b[0mhttp_error_default\u001b[0m\u001b[1;33m(\u001b[0m\u001b[0mself\u001b[0m\u001b[1;33m,\u001b[0m \u001b[0mreq\u001b[0m\u001b[1;33m,\u001b[0m \u001b[0mfp\u001b[0m\u001b[1;33m,\u001b[0m \u001b[0mcode\u001b[0m\u001b[1;33m,\u001b[0m \u001b[0mmsg\u001b[0m\u001b[1;33m,\u001b[0m \u001b[0mhdrs\u001b[0m\u001b[1;33m)\u001b[0m\u001b[1;33m:\u001b[0m\u001b[1;33m\u001b[0m\u001b[0m\n\u001b[1;32m--> 650\u001b[1;33m         \u001b[1;32mraise\u001b[0m \u001b[0mHTTPError\u001b[0m\u001b[1;33m(\u001b[0m\u001b[0mreq\u001b[0m\u001b[1;33m.\u001b[0m\u001b[0mfull_url\u001b[0m\u001b[1;33m,\u001b[0m \u001b[0mcode\u001b[0m\u001b[1;33m,\u001b[0m \u001b[0mmsg\u001b[0m\u001b[1;33m,\u001b[0m \u001b[0mhdrs\u001b[0m\u001b[1;33m,\u001b[0m \u001b[0mfp\u001b[0m\u001b[1;33m)\u001b[0m\u001b[1;33m\u001b[0m\u001b[0m\n\u001b[0m\u001b[0;32m    651\u001b[0m \u001b[1;33m\u001b[0m\u001b[0m\n\u001b[0;32m    652\u001b[0m \u001b[1;32mclass\u001b[0m \u001b[0mHTTPRedirectHandler\u001b[0m\u001b[1;33m(\u001b[0m\u001b[0mBaseHandler\u001b[0m\u001b[1;33m)\u001b[0m\u001b[1;33m:\u001b[0m\u001b[1;33m\u001b[0m\u001b[0m\n",
      "\u001b[1;31mHTTPError\u001b[0m: HTTP Error 400: Bad Request"
     ]
    }
   ],
   "source": [
    "import urllib.request\n",
    "import json\n",
    "\n",
    "count = 100\n",
    "owner_id = -25232578\n",
    "token = 'a9765529a9765529a97655293ba91c7662aa976a' \\\n",
    "                    '9765529f5cbdd165266a72de51aadf0'\n",
    "posts_num = []\n",
    "texts = []\n",
    "dates = []\n",
    "\n",
    "for i in range(0, 300, 100):\n",
    "    request = 'https://api.vk.com/method/wall.get?owner_\\\n",
    "    id=%d&offset=%d&count=%d&v=5.92&access_token=%s' % (owner_id, i, count, token)\n",
    "    req = urllib.request.Request(request)\n",
    "    response = urllib.request.urlopen(req).read().decode('utf-8')\n",
    "    data = json.loads(response)\n",
    "    for j in range(len(data['response']['items'])):\n",
    "        posts_num.append(data['response']['items'][j]['id'])  # id постов\n",
    "        texts.append(data['response']['items'][j]['text'])  # тексты постов\n",
    "        dates.append(data['response']['items'][j]['date'])  # дата публикации\n",
    "        \n",
    "print(posts_num[:50])"
   ]
  },
  {
   "cell_type": "code",
   "execution_count": null,
   "metadata": {},
   "outputs": [],
   "source": [
    "posts = {}\n",
    "\n",
    "for i in range(len(posts_num)):\n",
    "    posts[posts_num[i]] = [texts[i], dates[i]]"
   ]
  },
  {
   "cell_type": "code",
   "execution_count": 2,
   "metadata": {},
   "outputs": [],
   "source": [
    "\n",
    "comments = {}\n",
    "\n",
    "for post in posts_num:\n",
    "    text_comment = []\n",
    "    ids = []\n",
    "    for i in range(0, 200, 100):\n",
    "        request = 'https://api.vk.com/method/wall.getComments?\\\n",
    "        owner_id=%d&post_id=%d&offset=%d&count=%d&v=5.92\\\n",
    "        &access_token=%s' % (owner_id, post, i, count, token)\n",
    "        req = urllib.request.Request(request)\n",
    "        response = urllib.request.urlopen(req).read().decode('utf-8')\n",
    "        data = json.loads(response)\n",
    "        for j in range(len(data['response']['items'])):\n",
    "            try:\n",
    "                text_comment.append(data['response']['items'][j]['text'])\n",
    "                ids.append(data['response']['items'][j]['from_id'])  \n",
    "                # профили комментаторов\n",
    "            except KeyError:\n",
    "                continue\n",
    "    comments[post] = [text_comment, ids]"
   ]
  },
  {
   "cell_type": "code",
   "execution_count": 3,
   "metadata": {},
   "outputs": [
    {
     "ename": "NameError",
     "evalue": "name 'posts' is not defined",
     "output_type": "error",
     "traceback": [
      "\u001b[1;31m---------------------------------------------------------------------------\u001b[0m",
      "\u001b[1;31mNameError\u001b[0m                                 Traceback (most recent call last)",
      "\u001b[1;32m<ipython-input-3-ba1f9c59166e>\u001b[0m in \u001b[0;36m<module>\u001b[1;34m()\u001b[0m\n\u001b[0;32m      3\u001b[0m \u001b[0msym\u001b[0m \u001b[1;33m=\u001b[0m \u001b[1;34m\".,?!…:;()[]-—–_|/\\\"'«»*{}<>@#$%^&№0123456789\"\u001b[0m\u001b[1;33m\u001b[0m\u001b[0m\n\u001b[0;32m      4\u001b[0m \u001b[1;33m\u001b[0m\u001b[0m\n\u001b[1;32m----> 5\u001b[1;33m \u001b[1;32mfor\u001b[0m \u001b[0mkey\u001b[0m\u001b[1;33m,\u001b[0m \u001b[0mvalue\u001b[0m \u001b[1;32min\u001b[0m \u001b[0mposts\u001b[0m\u001b[1;33m.\u001b[0m\u001b[0mitems\u001b[0m\u001b[1;33m(\u001b[0m\u001b[1;33m)\u001b[0m\u001b[1;33m:\u001b[0m\u001b[1;33m\u001b[0m\u001b[0m\n\u001b[0m\u001b[0;32m      6\u001b[0m     \u001b[0mall_words_post\u001b[0m \u001b[1;33m=\u001b[0m \u001b[1;33m[\u001b[0m\u001b[1;33m]\u001b[0m\u001b[1;33m\u001b[0m\u001b[0m\n\u001b[0;32m      7\u001b[0m     \u001b[0mall_lens_comment\u001b[0m \u001b[1;33m=\u001b[0m \u001b[1;33m[\u001b[0m\u001b[1;33m]\u001b[0m\u001b[1;33m\u001b[0m\u001b[0m\n",
      "\u001b[1;31mNameError\u001b[0m: name 'posts' is not defined"
     ]
    }
   ],
   "source": [
    "# Подсчет слов в постах и комментариях\n",
    "\n",
    "sym = \".,?!…:;()[]-—–_|/\\\"'«»*{}<>@#$%^&№0123456789\"\n",
    "\n",
    "for key, value in posts.items():\n",
    "    all_words_post = []\n",
    "    all_lens_comment = []\n",
    "    words = value[0].lower().strip().split()\n",
    "    for word in words:\n",
    "        new_word = word.strip(sym)\n",
    "        if len(new_word) > 0:\n",
    "            all_words_post.append(new_word)\n",
    "    if len(value) < 3:\n",
    "        value.append(len(all_words_post))\n",
    "    else:\n",
    "        value.pop(-1)\n",
    "        value.append(len(all_words_post))\n",
    "    com_len = 0\n",
    "    for com in comments[key][0]:\n",
    "        all_words_comment = []\n",
    "        words = com.lower().strip().split()\n",
    "        for word in words:\n",
    "            new_word = word.strip(sym)\n",
    "            if len(new_word) > 0:\n",
    "                all_words_comment.append(new_word)\n",
    "        all_lens_comment.append(len(all_words_comment))\n",
    "        com_len += len(all_words_comment)\n",
    "    if len(comments[key][0]) != 0:\n",
    "        result = com_len//len(comments[key][0])\n",
    "        if len(comments[key]) < 3:\n",
    "            comments[key].append(result)\n",
    "            comments[key].append(all_lens_comment)\n",
    "        else:\n",
    "            comments[key].pop(-1)\n",
    "            comments[key].append(result)\n",
    "            comments[key].append(all_lens_comment)\n",
    "    else:\n",
    "        comments[key].append(0)\n",
    "        comments[key].append([])"
   ]
  },
  {
   "cell_type": "code",
   "execution_count": 4,
   "metadata": {},
   "outputs": [
    {
     "ename": "NameError",
     "evalue": "name 'posts' is not defined",
     "output_type": "error",
     "traceback": [
      "\u001b[1;31m---------------------------------------------------------------------------\u001b[0m",
      "\u001b[1;31mNameError\u001b[0m                                 Traceback (most recent call last)",
      "\u001b[1;32m<ipython-input-4-7ddfef091bb6>\u001b[0m in \u001b[0;36m<module>\u001b[1;34m()\u001b[0m\n\u001b[0;32m      2\u001b[0m \u001b[0my\u001b[0m \u001b[1;33m=\u001b[0m \u001b[1;33m[\u001b[0m\u001b[1;33m]\u001b[0m\u001b[1;33m\u001b[0m\u001b[0m\n\u001b[0;32m      3\u001b[0m \u001b[1;33m\u001b[0m\u001b[0m\n\u001b[1;32m----> 4\u001b[1;33m \u001b[1;32mfor\u001b[0m \u001b[0mkey\u001b[0m\u001b[1;33m,\u001b[0m \u001b[0mvalue\u001b[0m \u001b[1;32min\u001b[0m \u001b[0mposts\u001b[0m\u001b[1;33m.\u001b[0m\u001b[0mitems\u001b[0m\u001b[1;33m(\u001b[0m\u001b[1;33m)\u001b[0m\u001b[1;33m:\u001b[0m\u001b[1;33m\u001b[0m\u001b[0m\n\u001b[0m\u001b[0;32m      5\u001b[0m     \u001b[0mx\u001b[0m\u001b[1;33m.\u001b[0m\u001b[0mappend\u001b[0m\u001b[1;33m(\u001b[0m\u001b[0mvalue\u001b[0m\u001b[1;33m[\u001b[0m\u001b[1;36m2\u001b[0m\u001b[1;33m]\u001b[0m\u001b[1;33m)\u001b[0m\u001b[1;33m\u001b[0m\u001b[0m\n\u001b[0;32m      6\u001b[0m     \u001b[0my\u001b[0m\u001b[1;33m.\u001b[0m\u001b[0mappend\u001b[0m\u001b[1;33m(\u001b[0m\u001b[0mcomments\u001b[0m\u001b[1;33m[\u001b[0m\u001b[0mkey\u001b[0m\u001b[1;33m]\u001b[0m\u001b[1;33m[\u001b[0m\u001b[1;36m2\u001b[0m\u001b[1;33m]\u001b[0m\u001b[1;33m)\u001b[0m\u001b[1;33m\u001b[0m\u001b[0m\n",
      "\u001b[1;31mNameError\u001b[0m: name 'posts' is not defined"
     ]
    }
   ],
   "source": [
    "x = []\n",
    "y = []\n",
    "\n",
    "for key, value in posts.items():\n",
    "    x.append(value[2])\n",
    "    y.append(comments[key][2])"
   ]
  },
  {
   "cell_type": "code",
   "execution_count": 5,
   "metadata": {},
   "outputs": [],
   "source": [
    "new = {}\n",
    "\n",
    "for i in range(len(x)):\n",
    "    if x[i] not in new:\n",
    "        new[x[i]] = list(str(y[i]))\n",
    "    else:\n",
    "        new[x[i]].append(str(y[i]))"
   ]
  },
  {
   "cell_type": "code",
   "execution_count": null,
   "metadata": {},
   "outputs": [],
   "source": [
    "for key, value in new.items():\n",
    "    sum = 0\n",
    "    for val in value:\n",
    "        sum += int(val)\n",
    "    res = sum/len(value)\n",
    "    new[key] = res"
   ]
  },
  {
   "cell_type": "code",
   "execution_count": null,
   "metadata": {},
   "outputs": [],
   "source": [
    "import matplotlib.pyplot as plt\n",
    "import seaborn"
   ]
  },
  {
   "cell_type": "code",
   "execution_count": null,
   "metadata": {},
   "outputs": [],
   "source": [
    "title = 'Зависимость средней длины комментариев от длины поста'\n",
    "plt.bar(new.keys(), new.values(), color='red', edgecolor='k')\n",
    "plt.title(title)\n",
    "plt.xlabel('Длина поста')\n",
    "plt.ylabel('Средняя длина комментариев')\n",
    "plt.savefig(title)\n",
    "\n",
    "plt.show()"
   ]
  },
  {
   "cell_type": "code",
   "execution_count": null,
   "metadata": {},
   "outputs": [],
   "source": [
    "import time\n",
    "\n",
    "for key, value in posts.items():\n",
    "    value[1] = list(time.localtime(value[1]))"
   ]
  },
  {
   "cell_type": "code",
   "execution_count": null,
   "metadata": {},
   "outputs": [],
   "source": [
    "import os\n",
    "\n",
    "filename = 'All_texts.txt'\n",
    "\n",
    "try:\n",
    "    os.remove(filename)\n",
    "    f = open(filename, 'a+', encoding='utf-8')\n",
    "except:\n",
    "    f = open(filename, 'a+', encoding='utf-8')\n",
    "\n",
    "for key, value in posts.items():\n",
    "    print('Пост:\\n' + value[0] + '\\n', file=f)\n",
    "    print('Комментарии:\\n' + '\\n'.join(comments[key][0]) + '\\n', file=f)\n",
    "\n",
    "f.close()\n",
    "\n",
    "os.system('mystem.exe -ld ' + ' All_texts.txt' + ' All_texts_mystem.txt')"
   ]
  },
  {
   "cell_type": "code",
   "execution_count": null,
   "metadata": {},
   "outputs": [],
   "source": [
    "wd_vs_len = {}\n",
    "hour_vs_len = {}\n",
    "\n",
    "for value in posts.values():\n",
    "    if value[1][6] not in wd_vs_len:\n",
    "        wd_vs_len[value[1][6]] = []\n",
    "        wd_vs_len[value[1][6]].append(str(value[-1]))\n",
    "    else:\n",
    "        wd_vs_len[value[1][6]].append(str(value[-1]))\n",
    "    if value[1][3] not in hour_vs_len:\n",
    "        hour_vs_len[value[1][3]] = []\n",
    "        hour_vs_len[value[1][3]].append(str(value[-1]))\n",
    "    else:\n",
    "        hour_vs_len[value[1][3]].append(str(value[-1]))"
   ]
  },
  {
   "cell_type": "code",
   "execution_count": null,
   "metadata": {},
   "outputs": [],
   "source": [
    "x1 = []\n",
    "y1 = []\n",
    "\n",
    "x2 = []\n",
    "y2 = []\n",
    "\n",
    "for key, value in wd_vs_len.items():\n",
    "    x1.append(key)\n",
    "    y1.append(value)\n",
    "\n",
    "for key, value in hour_vs_len.items():\n",
    "    x2.append(key)\n",
    "    y2.append(value)"
   ]
  },
  {
   "cell_type": "code",
   "execution_count": null,
   "metadata": {},
   "outputs": [],
   "source": [
    "new1 = {}\n",
    "\n",
    "for i in range(len(x1)):\n",
    "    if x1[i] not in new1:\n",
    "        new1[x1[i]] = y1[i]\n",
    "    else:\n",
    "        new1[x1[i]].append(y1[i])\n",
    "        \n",
    "for key, value in new1.items():\n",
    "    sum = 0\n",
    "    for val in value:\n",
    "        sum += int(val)\n",
    "    res = sum/len(value)\n",
    "    new1[key] = res"
   ]
  },
  {
   "cell_type": "code",
   "execution_count": null,
   "metadata": {},
   "outputs": [],
   "source": [
    "new2 = {}\n",
    "\n",
    "for i in range(len(x2)):\n",
    "    if x2[i] not in new2:\n",
    "        new2[x2[i]] = y2[i]\n",
    "    else:\n",
    "        new2[x2[i]].append(y2[i])\n",
    "        \n",
    "for key, value in new2.items():\n",
    "    sum = 0\n",
    "    for val in value:\n",
    "        sum += int(val)\n",
    "    res = sum/len(value)\n",
    "    new2[key] = res"
   ]
  },
  {
   "cell_type": "code",
   "execution_count": null,
   "metadata": {},
   "outputs": [],
   "source": [
    "title = 'Зависимость средней длины поста от дня недели'\n",
    "plt.bar(new1.keys(), new1.values(), color='red', edgecolor='k')\n",
    "plt.title(title)\n",
    "plt.xticks([0, 1, 2, 3, 4, 5, 6], ['вс', 'пн', 'вт', 'ср', 'чт', 'пт', 'сб'])\n",
    "plt.xlabel('День недели')\n",
    "plt.ylabel('Средняя длина поста')\n",
    "plt.savefig(title)\n",
    "\n",
    "plt.show()"
   ]
  },
  {
   "cell_type": "code",
   "execution_count": null,
   "metadata": {},
   "outputs": [],
   "source": [
    "title = 'Зависимость средней длины поста от времени дня'\n",
    "plt.bar(new2.keys(), new2.values(), color='red', edgecolor='k')\n",
    "plt.title(title)\n",
    "plt.xlabel('Время дня')\n",
    "plt.ylabel('Средняя длина поста')\n",
    "plt.savefig(title)\n",
    "\n",
    "plt.show()"
   ]
  },
  {
   "cell_type": "code",
   "execution_count": null,
   "metadata": {},
   "outputs": [],
   "source": [
    "c = 0\n",
    "keys = []\n",
    "\n",
    "for key,value in comments.items():\n",
    "    c += len(value[0])\n",
    "    if c < 150:\n",
    "        keys.append(key)\n",
    "    else:\n",
    "        break"
   ]
  },
  {
   "cell_type": "code",
   "execution_count": null,
   "metadata": {},
   "outputs": [],
   "source": [
    "for key in keys:\n",
    "    value = comments[key]\n",
    "    try:\n",
    "        value.pop(4)\n",
    "        value.append([])\n",
    "    except:\n",
    "        value.append([])\n",
    "    for i in range(len(value[0])):\n",
    "        if str(value[1][i])[0] != '-':\n",
    "            request = 'https://api.vk.com/method/users.get?\\\n",
    "            user_ids=%s&fields=sex,city,has_photo&v=5.92&\\\n",
    "            access_token=%s' % (value[1][i], token)\n",
    "            req = urllib.request.Request(request)\n",
    "            response = urllib.request.urlopen(req).read().decode('utf-8')\n",
    "            data = json.loads(response)\n",
    "            try:\n",
    "                data['response'][0]['city']['title']\n",
    "                value[4].append([data['response'][0]['sex'],\\\n",
    "                                 data['response'][0]['city']['title'],\n",
    "                                 data['response'][0]['has_photo']])\n",
    "            except:\n",
    "                value[4].append([data['response'][0]\\\n",
    "                                 ['sex'], 'No city', \\\n",
    "                                 data['response'][0]['has_photo']])\n",
    "        else:\n",
    "            value[4].append([])"
   ]
  },
  {
   "cell_type": "code",
   "execution_count": null,
   "metadata": {},
   "outputs": [],
   "source": [
    "cities = {}\n",
    "sexs = {}\n",
    "has_photos = {}\n",
    "\n",
    "for key in keys:\n",
    "    for i in range(len(comments[key][0])):\n",
    "        if comments[key][-1][i][0] not in sexs:\n",
    "            sexs[comments[key][-1][i][0]] = [comments[key][-2][i]]\n",
    "        else:\n",
    "            sexs[comments[key][-1][i][0]].append(comments[key][-2][i])\n",
    "        if comments[key][-1][i][1] not in cities:\n",
    "            cities[comments[key][-1][i][1]] = [comments[key][-2][i]]\n",
    "        else:\n",
    "            cities[comments[key][-1][i][1]].append(comments[key][-2][i])\n",
    "        if comments[key][-1][i][2] not in has_photos:\n",
    "            has_photos[comments[key][-1][i][2]] = [comments[key][-2][i]]\n",
    "        else:\n",
    "            has_photos[comments[key][-1][i][2]].append(comments[key][-2][i])"
   ]
  },
  {
   "cell_type": "code",
   "execution_count": null,
   "metadata": {},
   "outputs": [],
   "source": [
    "for key, value in sexs.items():\n",
    "    sum = 0\n",
    "    for i in value:\n",
    "        sum += i\n",
    "    sexs[key] = sum/len(value)\n",
    "\n",
    "for key, value in cities.items():\n",
    "    sum = 0\n",
    "    for i in value:\n",
    "        sum += i\n",
    "    cities[key] = sum/len(value)\n",
    "\n",
    "for key, value in has_photos.items():\n",
    "    sum = 0\n",
    "    for i in value:\n",
    "        sum += i\n",
    "    has_photos[key] = sum/len(value)"
   ]
  },
  {
   "cell_type": "code",
   "execution_count": null,
   "metadata": {},
   "outputs": [],
   "source": [
    "x = []\n",
    "y = []\n",
    "\n",
    "for key, value in sexs.items():\n",
    "    x.append(key)\n",
    "    y.append(value)\n",
    "\n",
    "plt.bar(x, y, color='r', edgecolor='k')\n",
    "plt.title('Зависимость средней длины комментария от пола автора')\n",
    "plt.ylabel('Средняя длина комментария')\n",
    "plt.xlabel('Пол')\n",
    "plt.xticks([1, 2], ['Женский', 'Мужской'])\n",
    "plt.savefig('Зависимость средней длины комментария от пола автора')\n",
    "\n",
    "plt.show()"
   ]
  },
  {
   "cell_type": "code",
   "execution_count": null,
   "metadata": {},
   "outputs": [],
   "source": [
    "x = []\n",
    "y = []\n",
    "\n",
    "for key, value in has_photos.items():\n",
    "    x.append(key)\n",
    "    y.append(value)\n",
    "\n",
    "plt.bar(x, y, color='r', edgecolor='k')\n",
    "plt.title('Зависимость средней длины комментария от наличия фото')\n",
    "plt.ylabel('Средняя длина комментария')\n",
    "plt.xlabel('Наличие фото')\n",
    "plt.xticks([0, 1], ['Нет', 'Есть'])\n",
    "plt.savefig('Зависимость средней длины комментария от наличия фото')\n",
    "\n",
    "plt.show()"
   ]
  },
  {
   "cell_type": "code",
   "execution_count": null,
   "metadata": {},
   "outputs": [],
   "source": [
    "x = []\n",
    "y = []\n",
    "\n",
    "for key, value in sorted(cities.items()):\n",
    "    x.append(key)\n",
    "    y.append(value)\n",
    "\n",
    "plt.bar(x, y, color='r', edgecolor='k')\n",
    "plt.title('Зависимость средней длины комментария от города автора')\n",
    "plt.ylabel('Средняя длина комментария')\n",
    "plt.xlabel('Город')\n",
    "plt.xticks(rotation=90)\n",
    "plt.savefig('Зависимость средней длины комментария от\\\n",
    "города автора', bbox_inches='tight')\n",
    "\n",
    "plt.show()"
   ]
  },
  {
   "cell_type": "code",
   "execution_count": null,
   "metadata": {},
   "outputs": [],
   "source": [
    "stops = []\n",
    "\n",
    "with open('rus_stopwords.txt', 'r', encoding='utf-8') as stop:\n",
    "    for line in stop:\n",
    "        stops.append(line.strip())"
   ]
  },
  {
   "cell_type": "code",
   "execution_count": null,
   "metadata": {},
   "outputs": [],
   "source": [
    "clean_text = []\n",
    "\n",
    "sym = \".,?!…:;()[]-—– _|/\\\"'«»*{}<>@#$%^&№0123456789\"\n",
    "\n",
    "with open('All_texts.txt', 'r', encoding='utf-8') as f:\n",
    "    text = f.readlines()\n",
    "    for line in text:\n",
    "        new_line = line.lower().strip(sym).split()\n",
    "        for word in new_line:\n",
    "            new_word = word.strip(sym)\n",
    "            if len(new_word) > 0:\n",
    "                clean_text.append(new_word)"
   ]
  },
  {
   "cell_type": "code",
   "execution_count": null,
   "metadata": {},
   "outputs": [],
   "source": [
    "clean = [word for word in clean_text if word not in stops]"
   ]
  },
  {
   "cell_type": "code",
   "execution_count": null,
   "metadata": {},
   "outputs": [],
   "source": [
    "clean_text_mystem = []\n",
    "\n",
    "with open('All_texts_mystem.txt', 'r', encoding='utf-8') as t:\n",
    "    text = t.read()\n",
    "    text = text.lower().strip('{}').split('}{')\n",
    "    for word in text:\n",
    "        new_word = word.strip('?')\n",
    "        clean_text_mystem.append(new_word)"
   ]
  },
  {
   "cell_type": "code",
   "execution_count": null,
   "metadata": {},
   "outputs": [],
   "source": [
    "clean_mystem = [word for word in clean_text_mystem if word not in stops]"
   ]
  },
  {
   "cell_type": "code",
   "execution_count": null,
   "metadata": {},
   "outputs": [],
   "source": [
    "freq = {}\n",
    "\n",
    "for word in clean:\n",
    "    if word in freq:\n",
    "        freq[word] += 1\n",
    "    else:\n",
    "        freq[word] = 1"
   ]
  },
  {
   "cell_type": "code",
   "execution_count": null,
   "metadata": {},
   "outputs": [],
   "source": [
    "freq2 = {}\n",
    "\n",
    "for lemma in clean_mystem:\n",
    "    if lemma in freq2:\n",
    "        freq2[lemma] += 1\n",
    "    else:\n",
    "        freq2[lemma] = 1"
   ]
  },
  {
   "cell_type": "code",
   "execution_count": null,
   "metadata": {},
   "outputs": [],
   "source": [
    "for lemma in sorted(freq2, key=freq2.get, reverse=True)[:50]:\n",
    "    print(lemma, \"\\t\", freq2[lemma])"
   ]
  },
  {
   "cell_type": "code",
   "execution_count": null,
   "metadata": {},
   "outputs": [],
   "source": [
    "import matplotlib.pyplot as plt\n",
    "\n",
    "words_plot = []\n",
    "x = 1\n",
    "for word in sorted(freq, key=freq.get, reverse=True)[:20]:\n",
    "    words_plot.append(word)\n",
    "    plt.bar(x, freq[word], alpha=0.7, edgecolor='k')\n",
    "    x += 1\n",
    "plt.xticks([i+1 for i in range(20)], words_plot, rotation=90)\n",
    "plt.title(\"Топ-20 частотных слов (нелемм)\")\n",
    "plt.ylabel('Кол-во употреблений')\n",
    "plt.xlabel('Словоформы')\n",
    "plt.savefig(\"Топ-20 частотных слов (нелемм)\")\n",
    "plt.show()\n",
    "\n",
    "lemmas_plot = []\n",
    "x = 1\n",
    "for lemma in sorted(freq2, key=freq2.get, reverse=True)[:20]:\n",
    "    lemmas_plot.append(lemma)\n",
    "    plt.bar(x, freq2[lemma], alpha=0.7, edgecolor='k')\n",
    "    x += 1\n",
    "plt.xticks([i+1 for i in range(20)], lemmas_plot, rotation=90)\n",
    "plt.title(\"Топ-20 частотных слов (лемм)\")\n",
    "plt.ylabel('Кол-во употреблений')\n",
    "plt.xlabel('Леммы')\n",
    "plt.savefig(\"Топ-20 частотных слов (лемм)\")\n",
    "plt.show()"
   ]
  },
  {
   "cell_type": "code",
   "execution_count": null,
   "metadata": {},
   "outputs": [],
   "source": []
  }
 ],
 "metadata": {
  "kernelspec": {
   "display_name": "Python 3",
   "language": "python",
   "name": "python3"
  },
  "language_info": {
   "codemirror_mode": {
    "name": "ipython",
    "version": 3
   },
   "file_extension": ".py",
   "mimetype": "text/x-python",
   "name": "python",
   "nbconvert_exporter": "python",
   "pygments_lexer": "ipython3",
   "version": "3.6.5"
  }
 },
 "nbformat": 4,
 "nbformat_minor": 2
}
